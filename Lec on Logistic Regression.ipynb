{
 "cells": [
  {
   "cell_type": "markdown",
   "metadata": {
    "collapsed": false
   },
   "source": [
    "# Math 157: Intro to Mathematical Softwares\n"
   ]
  },
  {
   "cell_type": "markdown",
   "metadata": {
    "collapsed": false
   },
   "source": [
    "## UC San Diego Winter 2021\n",
    "#### By Lulude Sun"
   ]
  },
  {
   "cell_type": "markdown",
   "metadata": {
    "collapsed": false
   },
   "source": [
    "### Logistic Regression\n"
   ]
  },
  {
   "cell_type": "markdown",
   "metadata": {
    "collapsed": false
   },
   "source": [
    "<img src=\"regression.jpg\" width=\"40%\">"
   ]
  },
  {
   "cell_type": "markdown",
   "metadata": {
    "collapsed": false
   },
   "source": [
    "#### Sources\n",
    "- https://www.analyticsvidhya.com/blog/2020/12/beginners-take-how-logistic-regression-is-related-to-linear-regression/#:~:text=The%20Differences%20between%20Linear%20Regression,Logistic%20regression%20provides%20discreet%20output.\n",
    "- https://www.statisticssolutions.com/assumptions-of-logistic-regression/\n",
    "- https://www.theanalysisfactor.com/why-use-odds-ratios/\n",
    "- https://realpython.com/logistic-regression-python/\n",
    "- https://www.geeksforgeeks.org/advantages-and-disadvantages-of-logistic-regression/\n",
    "- https://web.stanford.edu/~jurafsky/slp3/5.pdf\n",
    "- https://www.cs.cornell.edu/courses/cs4780/2018fa/lectures/lecturenote06.html\n",
    "- https://machinelearningmastery.com/linear-regression-tutorial-using-gradient-descent-for-machine-learning/\n",
    "- https://www.kaggle.com/mohansacharya/graduate-admissions\n",
    "- https://www.kaggle.com/utkucanozturk/predict-graduate-admissions-with-python"
   ]
  },
  {
   "cell_type": "markdown",
   "metadata": {
    "collapsed": false
   },
   "source": [
    "### What is logistic regression?"
   ]
  },
  {
   "cell_type": "markdown",
   "metadata": {
    "collapsed": false
   },
   "source": [
    "As we all know, linear regression is a model that model the relationship between two variables by fitting a linear equation. And it is used to predict the value of a dependent variable based on the value of another variable. \n",
    "\n",
    "Logistic regression, on the other hand, is similar but not exactly the same as linear regression. It is used to model the probability of binary variables such as pass/fail, win/lose, male/female, etc. It is used to explain the relationship between a dependent binary variable and one or more independent variables. \n",
    "\n",
    "Put it in simple terms, logistic regression predicts whether something is True of False, instead of something continuous like salary.\n"
   ]
  },
  {
   "cell_type": "markdown",
   "metadata": {
    "collapsed": false
   },
   "source": [
    "#### Logistic Regression vs. Linear Regression\n"
   ]
  },
  {
   "cell_type": "markdown",
   "metadata": {
    "collapsed": false
   },
   "source": [
    "<img src=\"logisticlinear.jpg\" width=\"40%\">"
   ]
  },
  {
   "cell_type": "markdown",
   "metadata": {
    "collapsed": false
   },
   "source": [
    "##### Similarities\n",
    "- both are supervised machine learning algorithms\n",
    "- both are parametric regression, meaning both uses linear equations for predictions"
   ]
  },
  {
   "cell_type": "markdown",
   "metadata": {
    "collapsed": false
   },
   "source": [
    "##### Differences\n",
    "- Logistic regression is used fro classification problems while linear regression is used for regression problems\n",
    "- Logistic regression output discreet result while linear regression output continuous result\n",
    "- logistic regression fits the value to the sigmoid curve while linear regression only finds the best-fitted line\n",
    "- logistic regression calculates loss function using maximum likelihood estimation while linear regression uses mean squared error"
   ]
  },
  {
   "cell_type": "markdown",
   "metadata": {
    "collapsed": false
   },
   "source": [
    "#### Advantages and Disadvantages of using Logistic Regression instead of other regression techniques"
   ]
  },
  {
   "cell_type": "markdown",
   "metadata": {
    "collapsed": false
   },
   "source": [
    "Advantages\n",
    "- Logistic regression is generally easier to implement and efficient to train thus does not require high computation power \n",
    "- It does not make assumptions of classes in feature spaces\n",
    "- Can be easily extended to multiple classes\n",
    "- It only provides a measure of how appropriate a predictor (coefficient size) is\n",
    "- It is very fast at classifying unknown records\n",
    "- Good accuracy for simple datasets and performs very well when datasets are linearly separable\n",
    "- It interpret model coefficients as indicators of feature importance, meaning it gives inference about the importance of each feature\n",
    "- Less likely to overfit \n",
    "- Wnlike SVMs and decision trees, it can be updated easily to reflect new data using stochastic gradient descent\n",
    "\n",
    "\n",
    "Disadvantages\n",
    "- When observations is less than features, it may result in overfitting\n",
    "- There are linear boundaries \n",
    "- The assumption of linearity between dependent and independent variables\n",
    "- Can only be used to predict discrete functions\n",
    "- Cannot solve non-linear problems\n",
    "- Difficult to obtain complex relationships \n",
    "- It requires the independent variables to be linearly related to the log Odds which is $log(\\frac{p}{1-p})$"
   ]
  },
  {
   "cell_type": "markdown",
   "metadata": {
    "collapsed": false
   },
   "source": [
    "#### How can you use logistic regression for classification tasks?\n"
   ]
  },
  {
   "cell_type": "markdown",
   "metadata": {
    "collapsed": false
   },
   "source": [
    "**What is Classification?**\n",
    "\n",
    "Supervised machine learning algorithms define models that capture relationships among data. Classification is an area of supervised machine learning that tries to predict which class or category some entity belongs to, based on its features.\n",
    "\n",
    "For Example, grad schools might analyze students of different college and try to establish a dependence on the features or variables, such as major, GPA, courses taken, scholarships, admission, etc. The set of data related to a single student is one observation. And the features/variables can taken one of the two following forms:\n",
    "\n",
    "- **Independent variables**: inputs/predictors that do not depend on other features\n",
    "- **Dependent variables**: output/responses that depend on the independent variables\n",
    "\n",
    "In the above example where grad schools analyze students, we might presume major, GPA, courses taken as mutually independent and consider them as inputs. Admission and scholarships could be the outputs that depend on the inputs. \n",
    "\n",
    "**There are two main types of classification problems**:\n",
    "- Binary (two classes to choose between such as true/false, positive/negative)\n",
    "- Multiclass (three or more classes such as offer, rejection, and waitlist)"
   ]
  },
  {
   "cell_type": "markdown",
   "metadata": {
    "collapsed": false
   },
   "source": [
    "Logistic Regression is a discriminatory classifier, meaning we are only trying to distinguish the classes without learning much about them.\n",
    "\n",
    "Pros of using Logistic Regression Classifers:\n",
    "- It is well-normalized\n",
    "- Easy to turn into probability\n",
    "- Easy to implement\n",
    "\n",
    "Cons of using Logistic Regression Classifiers:\n",
    "- Indirect loss function\n",
    "- Dependent on good feature set\n",
    "- Weak on feature selection"
   ]
  },
  {
   "cell_type": "markdown",
   "metadata": {
    "collapsed": false
   },
   "source": [
    "#### Basic Assumptions of Logistic Regression\n"
   ]
  },
  {
   "cell_type": "markdown",
   "metadata": {
    "collapsed": false
   },
   "source": [
    "- Dependent variable is binary\n",
    "    - meaning there are only two simple answers to a question\n",
    "- The observations are independent of each other\n",
    "    - meaning each observation is unique\n",
    "- Little to no multicollinearity among independent variables\n",
    "    - meaning none of the independent variables are highly correlated with each other\n",
    "- Independent variables are related to the log odds function\n",
    "- Large sample size\n",
    "\n"
   ]
  },
  {
   "cell_type": "markdown",
   "metadata": {
    "collapsed": false
   },
   "source": [
    "#### The Log Odds Function"
   ]
  },
  {
   "cell_type": "markdown",
   "metadata": {
    "collapsed": false
   },
   "source": [
    "The log odds ratio is the ratio of something happening to something not happening\n",
    "\n",
    "**Note: Log Odds is different from Probability**\n",
    "\n",
    "- Probability: ranges from $0$ to $1$\n",
    "- Odds: range from $0$ to $\\infty$\n",
    "- Log Odds: range from $-\\infty$ to $\\infty$"
   ]
  },
  {
   "cell_type": "markdown",
   "metadata": {
    "collapsed": false
   },
   "source": [
    "\n",
    "$logit(p) = log(\\frac{p}{1-p})$ $= \\beta_0 + \\beta_1X_1 + \\beta_2X_2 + ..... + \\beta_nX_n$\n",
    "\n",
    "$p =$ probability of an event happening\n",
    "\n",
    "$\\frac{p}{1-p} = $ probability of the corresponding event not happening\n",
    "\n"
   ]
  },
  {
   "cell_type": "markdown",
   "metadata": {
    "collapsed": false
   },
   "source": [
    "## ************** PARTICIPATION CHECK****************\n"
   ]
  },
  {
   "cell_type": "markdown",
   "metadata": {
    "collapsed": false
   },
   "source": [
    "If you normally wake up early 2 out of 7 days, then what is the odd ratio of you waking up early on a certain day of the week? What is the log odd \n"
   ]
  },
  {
   "cell_type": "markdown",
   "metadata": {
    "collapsed": false
   },
   "source": [
    "Your answer here: "
   ]
  },
  {
   "cell_type": "markdown",
   "metadata": {
    "collapsed": false
   },
   "source": [
    "Solution: The probability of you waking up early is $\\frac{2}{7}$ and the probability of you not waking up early is $\\frac{5}{7}$. Therefore the odds of you waking up early is $\\frac{\\frac{2}{7}}{\\frac{5}{7}} = 0.40 = 40$%. \n",
    "\n",
    "Note this is different from the probability of you waking up early which is $\\frac{2}{7} = 0.286 = 28.6$%."
   ]
  },
  {
   "cell_type": "markdown",
   "metadata": {
    "collapsed": false
   },
   "source": [
    "#### Why Log Odds instead of Probability in Logistic Regression?"
   ]
  },
  {
   "cell_type": "markdown",
   "metadata": {
    "collapsed": false
   },
   "source": [
    "In logistic regression, the odds ratio represents the constant effect of a predictor $X$, on the likelihood that one outcome $Y$ will occur. In regression models, we often want to measure the unique effect of each $X$ on $Y$. If we try to express the effect of $X$ on the likelihood of a categorical $Y$ having a specific value through probability, the effect is not constant. The effect of $X$ on the probability of $Y$ has different values depending on the value of $X$. The transformation from probability to odds is a monotonic transformation, meaning the odds increase as the probability increases or vice versa.\n",
    "\n",
    "<img src=\"graph.JPG\" width=\"30%\">\n",
    "\n",
    "\n",
    "\\begin{equation}\n",
    "  f(x; w) =\n",
    "    \\begin{cases}\n",
    "      1 & \\text{if $w^Tx > 0$}\\\\\n",
    "      -1 & \\text{otherwise}\\\\\n",
    "    \\end{cases}       \n",
    "\\end{equation}\n",
    "\n",
    "\n",
    "Consider this graph above. Our predictions are only $+1$ or $-1$. So what if we want to make our predictions a probability?\n",
    "\n",
    "Answer:\n",
    "- $f(x; w) = p(y = +1|x;w)$ \n",
    "- $f(x; w) = -p(y = -1|x;w)$\n",
    "\n"
   ]
  },
  {
   "cell_type": "markdown",
   "metadata": {
    "collapsed": false
   },
   "source": [
    "**Main Idea**\n",
    "- Fit the model $p(y = 1|x;w) = \\frac{1}{1+e^{-w^Tx}}$\n",
    "- Find the Vector $w$ based on training data so that $p(y_1,y_2,...y_n | x_1,x_2,...x_n)$ is **maximum** where $y_1...y_n$ are training labels and $x_1...x_n$ are training feature vectors\n",
    "\n",
    "How do we find $w$? \n",
    "- we use the maximum likelihood principle (we'll talk about this later in lecture)"
   ]
  },
  {
   "cell_type": "markdown",
   "metadata": {
    "collapsed": false
   },
   "source": [
    "#### The Sigmoid Function"
   ]
  },
  {
   "cell_type": "markdown",
   "metadata": {
    "collapsed": false
   },
   "source": [
    "The Sigmoid Function is $S(x) = \\frac{1}{1 + e^{-x}} = \\frac{e^x}{e^x + 1}$ where $e$ is Euler's number\n"
   ]
  },
  {
   "cell_type": "code",
   "execution_count": 1,
   "metadata": {
    "collapsed": false
   },
   "outputs": [
    {
     "data": {
      "image/png": "[encoded data removed]",
      "text/plain": [
       "<Figure size 432x288 with 1 Axes>"
      ]
     },
     "execution_count": 1,
     "metadata": {
      "needs_background": "light"
     },
     "output_type": "execute_result"
    }
   ],
   "source": [
    "# Plot the sigmoid function\n",
    "\n",
    "import matplotlib.pyplot as plt \n",
    "import numpy as np \n",
    "import math \n",
    "  \n",
    "x = np.linspace(-10, 10, 100) \n",
    "z = 1/(1 + np.exp(-x)) \n",
    "  \n",
    "plt.plot(x, z) \n",
    "plt.xlabel(\"x\") \n",
    "plt.ylabel(\"Sigmoid(X)\") \n",
    "  \n",
    "plt.show() "
   ]
  },
  {
   "cell_type": "markdown",
   "metadata": {
    "collapsed": false
   },
   "source": [
    "As the plot above shows, the range of a sigmoid function is always between $0$ and $1$ therefore we can say that sigmoid functions are constrained by a pair of horizontal asymptotes as $x\\to\\pm\\infty$. This fact make the function very suitable for classification methods. In general, sigmoid functions are monotonic and its first derivative will be bell shaped. A sigmoid function is convex for values less than $0$, and it is concave for values greater than $0$.\n",
    "\n",
    "Side note: the cumulative distribution functions for many common probability distributions are sigmoidal.\n",
    "\n",
    "\n",
    "\n",
    "###### Before we start, let's review Maximum Likelihood Estimator. \n"
   ]
  },
  {
   "cell_type": "markdown",
   "metadata": {
    "collapsed": false
   },
   "source": [
    "#### Maximum Likelihood Estimator"
   ]
  },
  {
   "cell_type": "markdown",
   "metadata": {
    "collapsed": false
   },
   "source": [
    "In logistic regression, maximum likelihood estimation is used to estimate the parameters of the model.\n",
    "\n",
    "Maximum likelihood estimation is a method that determines values for the parameters of a model. The parameter values are found such that they maximize the likelihood that the process described by the model produced the data that are actually observed. \n",
    "\n",
    "Maximum likelihood principle: choose the value of the parameter $\\theta$ that would have made us most likely to observe the given data. \n",
    "\n",
    "The likelihood function for a probability mass function $P_x(k;\\theta)$ is $L(\\theta_1, \\theta_2, .... \\theta_d) = \\prod_{i=1}^{n} P_x(k_i; \\theta_1, ... \\theta_d)$\n",
    "\n",
    "The likelihood function for a probability density function $f_x(x;\\theta)$ is $L(\\theta_1, \\theta_2, .... \\theta_d) = \\prod_{i=1}^{n} f_x(x_i; \\theta_1, ... \\theta_d)$\n",
    "\n",
    "Note: the likelihood function $L(\\theta)$ is a function of $\\theta$ not a function of $k_1,...k_n$ or $x_1, ....x_n$.\n",
    "\n",
    "###### Maximum Likelihood Estimate (MLE): the value of the parameter $\\theta$ that maximizes $L(\\theta)$\n",
    "\n",
    "Steps to solve maximum likehood estimate for one parameter:\n",
    "- take $L(\\theta) = log L(\\theta)$\n",
    "- take the derivative and let $L'(\\theta) = 0$ and then solve $\\theta$.\n",
    "- set what you solved for in the last step and let it equals to $\\theta_e$ which is your maximum likelihood "
   ]
  },
  {
   "cell_type": "markdown",
   "metadata": {
    "collapsed": false
   },
   "source": [
    "For Logistic Regression, the conditional data likelihood $P(y |X,w)$ is the probability of the observed values $y∈ R^n$ in the training data conditioned on the feature values $x_i$. \n",
    "\n",
    "We choose the parameters that maximize this function and assume that the $y_i$'s are independent given the input features $x_i$ and $w$. \n",
    "\n",
    "$P(y|X,w) = \\prod_{i=1}^{n} P(y_i; x_i, w)$\n",
    "\n",
    "And then we take the log and obtain\n",
    "\n",
    "$log(\\prod_{i=1}^{n}P(y_i; x_i, w))$ = -$\\sum_{i=1}^{n}log(1+e^{-y_iw^Tx_i})$\n",
    "\n",
    "$w_{MLE} = \\arg\\max_{w} - \\sum_{i=1}^{n}log(1+e^{-y_iw^Tx_i}) = \\arg\\min_{w} - \\sum_{i=1}^{n}log(1+e^{-y_iw^Tx_i})$\n",
    "\n",
    "We need to estimate the parameters $w$. To find the values of the parameters at minimum, we will try to find solutions for \n",
    "\\begin{equation}\n",
    "    \\nabla _w \\nabla \\sum_{i=1}^{n}log(1+e^{-y_iw^Tx_i}) = 0\n",
    "\\end{equation}\n",
    "\n",
    "Since this equation has no closed form solution, we will use gradient descent on the negative log likelihood $l(w) = \\sum_{i=1}^{n}log(1+e^{-y_iw^Tx_i})$.\n"
   ]
  },
  {
   "cell_type": "markdown",
   "metadata": {
    "collapsed": false
   },
   "source": [
    "#### Gradient Descent"
   ]
  },
  {
   "cell_type": "markdown",
   "metadata": {
    "collapsed": false
   },
   "source": [
    "Gradient Descent is the process of minimizing a function by following the gradients of the cost function. This involves knowing the form of the cost as well as the derivative so that from a given point you know the gradient and can move in that direction. Each training instance is shown to the model one at a time. The model makes a prediction for a training instance, the error is calculated and the model is updated in order to reduce the error for the next prediction.\n",
    "\n",
    "This procedure can be used to find the set of coefficients in a model that result in the smallest error for the model on the training data. Each iteration the coefficients, called weights ($w$) are updated using the equation: $w = w  –  \\alpha \\cdot \\delta$\n",
    "\n",
    "**$w :$ the coefficient or weights being optimized**\n",
    "\n",
    "**$\\alpha :$ a learning rate that we must configure**\n",
    "\n",
    "Gradient is the error for the model on the training data attributed to the weight.\n",
    "\n",
    "Note:\n",
    "- When the learning rate is very large, it is possible that some iterations of gradient descent may not decrease the value of loss function.\n",
    "- With different initial weights, it is possible for the gradient descent algorithm to obtain different local minimum. \n"
   ]
  },
  {
   "cell_type": "markdown",
   "metadata": {
    "collapsed": false
   },
   "source": [
    "#### Procedure\n",
    "\n",
    "Note: our goal is to find the logistic regression function $p(x_i)$ such that the predicted responses $p(x_i)$ are as close as possible to the actual response $y_i$ for each observation $i = 1, 2, ...., n$. \n",
    "\n",
    "**Important: actual responses can only be $0$ or $1$ in binary classification problems!!! Meaning each $p(x_i)$ should be in the range of $[0,1]$**\n"
   ]
  },
  {
   "cell_type": "markdown",
   "metadata": {
    "collapsed": false
   },
   "source": [
    "Logistic Regression has two phases\n",
    "- Training: we train the system (specifically the weights w and b) using stochastic gradient descent and the cross-entropy loss\n",
    "- Test: Given a test example x we compute p(y|x) and return the higher probability label y = 1 or y = 0."
   ]
  },
  {
   "cell_type": "markdown",
   "metadata": {
    "collapsed": false
   },
   "source": [
    "General steps are:\n",
    "- Step 1: Import packages, functions, and classes\n",
    "- Step 2: Get data to work with and, if appropriate, transform it\n",
    "- Step 3: Create a classification model and train (or fit) it with existing data\n",
    "- Step 4: Evaluate your model to see if its performance is satisfactory\n",
    "- Step 5: Apply your model to make predictions"
   ]
  },
  {
   "cell_type": "markdown",
   "metadata": {
    "collapsed": false
   },
   "source": [
    "##### Setup"
   ]
  },
  {
   "cell_type": "code",
   "execution_count": 2,
   "metadata": {
    "collapsed": false
   },
   "outputs": [
   ],
   "source": [
    "import pandas as pd\n",
    "import numpy as np\n",
    "from sklearn.model_selection import train_test_split\n",
    "from sklearn.linear_model import LogisticRegression\n",
    "from sklearn import metrics\n",
    "from sklearn.metrics import classification_report, confusion_matrix\n",
    "import seaborn as sns\n",
    "import matplotlib.pyplot as plt\n",
    "from sklearn.preprocessing import MinMaxScaler\n",
    "from sklearn import preprocessing\n",
    "from sklearn.metrics import accuracy_score\n"
   ]
  },
  {
   "cell_type": "markdown",
   "metadata": {
    "collapsed": false
   },
   "source": [
    "##### Let's look at a simple example first before we use actual data"
   ]
  },
  {
   "cell_type": "code",
   "execution_count": 3,
   "metadata": {
    "collapsed": false
   },
   "outputs": [
    {
     "name": "stdout",
     "output_type": "stream",
     "text": [
      "[-1.04608067]\n",
      "[[0.51491375]]\n"
     ]
    }
   ],
   "source": [
    "# Let x be our input and y our output\n",
    "x = np.arange(10).reshape(-1, 1)\n",
    "y = np.array([0, 0, 0, 0, 1, 1, 1, 1, 1, 1])\n",
    "\n",
    "# fit logistic regression model\n",
    "model = LogisticRegression(solver='liblinear', random_state=0)\n",
    "model.fit(x, y)\n",
    "\n",
    "# We can also obtain the intercept and the coefficient\n",
    "print(model.intercept_)\n",
    "print(model.coef_)\n"
   ]
  },
  {
   "cell_type": "markdown",
   "metadata": {
    "collapsed": false
   },
   "source": [
    "Now that we have defined our logistic regression model, we can check the performance using .predict_proba(). This should return a matrix of probabilities that the predicted output is equal to either $0$ or $1$.\n",
    "\n"
   ]
  },
  {
   "cell_type": "code",
   "execution_count": 4,
   "metadata": {
    "collapsed": false
   },
   "outputs": [
    {
     "data": {
      "text/plain": [
       "array([[0.74002157, 0.25997843],\n",
       "       [0.62975524, 0.37024476],\n",
       "       [0.5040632 , 0.4959368 ],\n",
       "       [0.37785549, 0.62214451],\n",
       "       [0.26628093, 0.73371907],\n",
       "       [0.17821501, 0.82178499],\n",
       "       [0.11472079, 0.88527921],\n",
       "       [0.07186982, 0.92813018],\n",
       "       [0.04422513, 0.95577487],\n",
       "       [0.02690569, 0.97309431]])"
      ]
     },
     "execution_count": 4,
     "metadata": {
     },
     "output_type": "execute_result"
    }
   ],
   "source": [
    "model.predict_proba(x)"
   ]
  },
  {
   "cell_type": "markdown",
   "metadata": {
    "collapsed": false
   },
   "source": [
    "Each row in the matrix correspond to a single observation. The first column is the probability of the predicted output being $0$ that is $1-p(x)$ where the second column is the probability that the output is $1$. Note: the sum of the columns should equal to $1$.\n",
    "\n",
    "Next, let's check the accuracy of our model using .score(). This returns the ratio of the number of correct predictions to the number of observations."
   ]
  },
  {
   "cell_type": "code",
   "execution_count": 5,
   "metadata": {
    "collapsed": false
   },
   "outputs": [
    {
     "data": {
      "text/plain": [
       "0.9"
      ]
     },
     "execution_count": 5,
     "metadata": {
     },
     "output_type": "execute_result"
    }
   ],
   "source": [
    "model.score(x,y)"
   ]
  },
  {
   "cell_type": "markdown",
   "metadata": {
    "collapsed": false
   },
   "source": [
    "We see that our model is pretty accurate. Now, let's get a more detailed view our the accuracy of the model using a confusion matrix. "
   ]
  },
  {
   "cell_type": "code",
   "execution_count": 6,
   "metadata": {
    "collapsed": false
   },
   "outputs": [
    {
     "data": {
      "image/png": "[encoded data removed]",
      "text/plain": [
       "<Figure size 576x576 with 1 Axes>"
      ]
     },
     "execution_count": 6,
     "metadata": {
      "needs_background": "light"
     },
     "output_type": "execute_result"
    }
   ],
   "source": [
    "cfm = confusion_matrix(y, model.predict(x))\n",
    "\n",
    "fig, ax = plt.subplots(figsize=(8, 8))\n",
    "ax.imshow(cfm)\n",
    "ax.grid(False)\n",
    "ax.xaxis.set(ticks=(0, 1), ticklabels=('Predicted 0s', 'Predicted 1s'))\n",
    "ax.yaxis.set(ticks=(0, 1), ticklabels=('Actual 0s', 'Actual 1s'))\n",
    "ax.set_ylim(1.5, -0.5)\n",
    "for i in range(2):\n",
    "    for j in range(2):\n",
    "        ax.text(j, i, cfm[i, j], ha='center', va='center', color='red')\n",
    "plt.show()"
   ]
  },
  {
   "cell_type": "markdown",
   "metadata": {
    "collapsed": false
   },
   "source": [
    "Finally, let's get a more comprehensive report on our classification and report recall, sensitivity, and f1-score using classification_report()."
   ]
  },
  {
   "cell_type": "code",
   "execution_count": 7,
   "metadata": {
    "collapsed": false
   },
   "outputs": [
    {
     "name": "stdout",
     "output_type": "stream",
     "text": [
      "              precision    recall  f1-score   support\n",
      "\n",
      "           0       1.00      0.75      0.86         4\n",
      "           1       0.86      1.00      0.92         6\n",
      "\n",
      "    accuracy                           0.90        10\n",
      "   macro avg       0.93      0.88      0.89        10\n",
      "weighted avg       0.91      0.90      0.90        10\n",
      "\n"
     ]
    }
   ],
   "source": [
    "print(classification_report(y, model.predict(x)))"
   ]
  },
  {
   "cell_type": "markdown",
   "metadata": {
    "collapsed": false
   },
   "source": [
    "## ************** PARTICIPATION CHECK****************\n"
   ]
  },
  {
   "cell_type": "markdown",
   "metadata": {
    "collapsed": false
   },
   "source": [
    "Do logistic regression on $x$ and $y$ which I have already initlized for you. And report accuracy, as well as precision, recall, and f-score"
   ]
  },
  {
   "cell_type": "code",
   "execution_count": 8,
   "metadata": {
    "collapsed": false
   },
   "outputs": [
   ],
   "source": [
    "x = np.arange(20).reshape(-1, 1) #input\n",
    "y = np.array([1, 0, 0, 1, 1, 1, 1, 1, 1, 1,1,0,1,1,0,0,0,0,0,0]) #output\n",
    "\n",
    "# Your code here\n"
   ]
  },
  {
   "cell_type": "code",
   "execution_count": 9,
   "metadata": {
    "collapsed": false
   },
   "outputs": [
    {
     "name": "stdout",
     "output_type": "stream",
     "text": [
      "0.75\n",
      "              precision    recall  f1-score   support\n",
      "\n",
      "           0       0.70      0.78      0.74         9\n",
      "           1       0.80      0.73      0.76        11\n",
      "\n",
      "    accuracy                           0.75        20\n",
      "   macro avg       0.75      0.75      0.75        20\n",
      "weighted avg       0.76      0.75      0.75        20\n",
      "\n"
     ]
    }
   ],
   "source": [
    "# Solution\n",
    "model = LogisticRegression(solver='liblinear', random_state=0)\n",
    "model.fit(x, y)\n",
    "\n",
    "# accuracy\n",
    "print(model.score(x,y))\n",
    "\n",
    "# recall, precision, f1-score\n",
    "print(classification_report(y, model.predict(x)))"
   ]
  },
  {
   "cell_type": "markdown",
   "metadata": {
    "collapsed": false
   },
   "source": [
    "Now we have obtained the basic idea of running logistic regression on data. Let's start running logistic regression using actual dataset."
   ]
  },
  {
   "cell_type": "markdown",
   "metadata": {
    "collapsed": false
   },
   "source": [
    "##### Load Dataset\n",
    "\n",
    "Source: Graduate Admission Prediction on Kaggle\n",
    "\n",
    "Objective: predict whether someone will be admitted based on several parameters which are considered important during application for Masters Program\n"
   ]
  },
  {
   "cell_type": "code",
   "execution_count": 10,
   "metadata": {
    "collapsed": false
   },
   "outputs": [
    {
     "data": {
      "text/html": [
       "<div>\n",
       "<style scoped>\n",
       "    .dataframe tbody tr th:only-of-type {\n",
       "        vertical-align: middle;\n",
       "    }\n",
       "\n",
       "    .dataframe tbody tr th {\n",
       "        vertical-align: top;\n",
       "    }\n",
       "\n",
       "    .dataframe thead th {\n",
       "        text-align: right;\n",
       "    }\n",
       "</style>\n",
       "<table border=\"1\" class=\"dataframe\">\n",
       "  <thead>\n",
       "    <tr style=\"text-align: right;\">\n",
       "      <th></th>\n",
       "      <th>Serial No.</th>\n",
       "      <th>GRE Score</th>\n",
       "      <th>TOEFL Score</th>\n",
       "      <th>University Rating</th>\n",
       "      <th>SOP</th>\n",
       "      <th>LOR</th>\n",
       "      <th>CGPA</th>\n",
       "      <th>Research</th>\n",
       "      <th>Chance of Admit</th>\n",
       "    </tr>\n",
       "  </thead>\n",
       "  <tbody>\n",
       "    <tr>\n",
       "      <th>0</th>\n",
       "      <td>1</td>\n",
       "      <td>337</td>\n",
       "      <td>118</td>\n",
       "      <td>4</td>\n",
       "      <td>4.5</td>\n",
       "      <td>4.5</td>\n",
       "      <td>9.65</td>\n",
       "      <td>1</td>\n",
       "      <td>0.92</td>\n",
       "    </tr>\n",
       "    <tr>\n",
       "      <th>1</th>\n",
       "      <td>2</td>\n",
       "      <td>324</td>\n",
       "      <td>107</td>\n",
       "      <td>4</td>\n",
       "      <td>4.0</td>\n",
       "      <td>4.5</td>\n",
       "      <td>8.87</td>\n",
       "      <td>1</td>\n",
       "      <td>0.76</td>\n",
       "    </tr>\n",
       "    <tr>\n",
       "      <th>2</th>\n",
       "      <td>3</td>\n",
       "      <td>316</td>\n",
       "      <td>104</td>\n",
       "      <td>3</td>\n",
       "      <td>3.0</td>\n",
       "      <td>3.5</td>\n",
       "      <td>8.00</td>\n",
       "      <td>1</td>\n",
       "      <td>0.72</td>\n",
       "    </tr>\n",
       "    <tr>\n",
       "      <th>3</th>\n",
       "      <td>4</td>\n",
       "      <td>322</td>\n",
       "      <td>110</td>\n",
       "      <td>3</td>\n",
       "      <td>3.5</td>\n",
       "      <td>2.5</td>\n",
       "      <td>8.67</td>\n",
       "      <td>1</td>\n",
       "      <td>0.80</td>\n",
       "    </tr>\n",
       "    <tr>\n",
       "      <th>4</th>\n",
       "      <td>5</td>\n",
       "      <td>314</td>\n",
       "      <td>103</td>\n",
       "      <td>2</td>\n",
       "      <td>2.0</td>\n",
       "      <td>3.0</td>\n",
       "      <td>8.21</td>\n",
       "      <td>0</td>\n",
       "      <td>0.65</td>\n",
       "    </tr>\n",
       "  </tbody>\n",
       "</table>\n",
       "</div>"
      ],
      "text/plain": [
       "   Serial No.  GRE Score  TOEFL Score  University Rating  SOP  LOR   CGPA  \\\n",
       "0           1        337          118                  4  4.5   4.5  9.65   \n",
       "1           2        324          107                  4  4.0   4.5  8.87   \n",
       "2           3        316          104                  3  3.0   3.5  8.00   \n",
       "3           4        322          110                  3  3.5   2.5  8.67   \n",
       "4           5        314          103                  2  2.0   3.0  8.21   \n",
       "\n",
       "   Research  Chance of Admit   \n",
       "0         1              0.92  \n",
       "1         1              0.76  \n",
       "2         1              0.72  \n",
       "3         1              0.80  \n",
       "4         0              0.65  "
      ]
     },
     "execution_count": 10,
     "metadata": {
     },
     "output_type": "execute_result"
    }
   ],
   "source": [
    "admission = pd.read_csv('Admission_Predict.csv')\n",
    "admission.head()\n"
   ]
  },
  {
   "cell_type": "markdown",
   "metadata": {
    "collapsed": false
   },
   "source": [
    "##### Clean and transform dataset if neccessary"
   ]
  },
  {
   "cell_type": "code",
   "execution_count": 11,
   "metadata": {
    "collapsed": false
   },
   "outputs": [
    {
     "data": {
      "text/plain": [
       "Serial No.           False\n",
       "GRE Score            False\n",
       "TOEFL Score          False\n",
       "University Rating    False\n",
       "SOP                  False\n",
       "LOR                  False\n",
       "CGPA                 False\n",
       "Research             False\n",
       "Chance of Admit      False\n",
       "dtype: bool"
      ]
     },
     "execution_count": 11,
     "metadata": {
     },
     "output_type": "execute_result"
    }
   ],
   "source": [
    "admission.isnull().any()\n",
    "# This dataset does not have any missing values\n"
   ]
  },
  {
   "cell_type": "markdown",
   "metadata": {
    "collapsed": false
   },
   "source": [
    "##### Data Visualization"
   ]
  },
  {
   "cell_type": "code",
   "execution_count": 12,
   "metadata": {
    "collapsed": false
   },
   "outputs": [
    {
     "data": {
      "image/png": "[encoded data removed]",
      "text/plain": [
       "<Figure size 864x576 with 1 Axes>"
      ]
     },
     "execution_count": 12,
     "metadata": {
      "needs_background": "light"
     },
     "output_type": "execute_result"
    }
   ],
   "source": [
    "plt.figure(figsize=(12,8))\n",
    "plt.hist(admission['Chance of Admit '],bins=10,color=\"lavender\")\n",
    "plt.title('Histogram of Chance of Admit')\n",
    "plt.xlabel('Admission Chance')\n",
    "plt.ylabel('Frequency of Chance')\n",
    "plt.show()"
   ]
  },
  {
   "cell_type": "markdown",
   "metadata": {
    "collapsed": false
   },
   "source": [
    "Evidently, the chance of admission is pretty well distributed."
   ]
  },
  {
   "cell_type": "code",
   "execution_count": 13,
   "metadata": {
    "collapsed": false
   },
   "outputs": [
    {
     "data": {
      "image/png": "[encoded data removed]",
      "text/plain": [
       "<Figure size 864x576 with 1 Axes>"
      ]
     },
     "execution_count": 13,
     "metadata": {
      "needs_background": "light"
     },
     "output_type": "execute_result"
    }
   ],
   "source": [
    "plt.figure(figsize=(12,8))\n",
    "plt.plot(range(len(admission[admission['Research']==1])), admission[admission['Research']==1]['Chance of Admit '], color='orange')\n",
    "plt.plot(range(len(admission[admission['Research']==0])), admission[admission['Research']==0]['Chance of Admit '], color='olive')\n",
    "plt.show()"
   ]
  },
  {
   "cell_type": "markdown",
   "metadata": {
    "collapsed": false
   },
   "source": [
    "As we can see students with research has an overall higher chance of admission than those who do not. "
   ]
  },
  {
   "cell_type": "code",
   "execution_count": 14,
   "metadata": {
    "collapsed": false
   },
   "outputs": [
    {
     "data": {
      "image/png": "[encoded data removed]",
      "text/plain": [
       "<Figure size 576x576 with 2 Axes>"
      ]
     },
     "execution_count": 14,
     "metadata": {
      "needs_background": "light"
     },
     "output_type": "execute_result"
    }
   ],
   "source": [
    "corr = admission.corr()\n",
    "fig, ax = plt.subplots(figsize=(8, 8))\n",
    "colormap = sns.diverging_palette(250, 15, s=75, l=40,n=9, center=\"dark\")\n",
    "dropSelf = np.zeros_like(corr)\n",
    "dropSelf[np.triu_indices_from(dropSelf)] = True\n",
    "sns.heatmap(corr, cmap=colormap, linewidths=.5, annot=True, fmt=\".2f\", mask=dropSelf)\n",
    "plt.show()"
   ]
  },
  {
   "cell_type": "markdown",
   "metadata": {
    "collapsed": false
   },
   "source": [
    "From the correlation map above we see that Gre Score, CGPA, and TOFEL score are the three variables that are most correlated with students' chance of admission. \n"
   ]
  },
  {
   "cell_type": "markdown",
   "metadata": {
    "collapsed": false
   },
   "source": [
    "##### Data Exploration"
   ]
  },
  {
   "cell_type": "code",
   "execution_count": 15,
   "metadata": {
    "collapsed": false
   },
   "outputs": [
    {
     "data": {
      "text/html": [
       "<div>\n",
       "<style scoped>\n",
       "    .dataframe tbody tr th:only-of-type {\n",
       "        vertical-align: middle;\n",
       "    }\n",
       "\n",
       "    .dataframe tbody tr th {\n",
       "        vertical-align: top;\n",
       "    }\n",
       "\n",
       "    .dataframe thead th {\n",
       "        text-align: right;\n",
       "    }\n",
       "</style>\n",
       "<table border=\"1\" class=\"dataframe\">\n",
       "  <thead>\n",
       "    <tr style=\"text-align: right;\">\n",
       "      <th></th>\n",
       "      <th>Serial No.</th>\n",
       "      <th>GRE Score</th>\n",
       "      <th>TOEFL Score</th>\n",
       "      <th>University Rating</th>\n",
       "      <th>SOP</th>\n",
       "      <th>LOR</th>\n",
       "      <th>CGPA</th>\n",
       "      <th>Research</th>\n",
       "      <th>Chance of Admit</th>\n",
       "    </tr>\n",
       "  </thead>\n",
       "  <tbody>\n",
       "    <tr>\n",
       "      <th>count</th>\n",
       "      <td>400.000000</td>\n",
       "      <td>400.000000</td>\n",
       "      <td>400.000000</td>\n",
       "      <td>400.000000</td>\n",
       "      <td>400.000000</td>\n",
       "      <td>400.000000</td>\n",
       "      <td>400.000000</td>\n",
       "      <td>400.000000</td>\n",
       "      <td>400.000000</td>\n",
       "    </tr>\n",
       "    <tr>\n",
       "      <th>mean</th>\n",
       "      <td>200.500000</td>\n",
       "      <td>316.807500</td>\n",
       "      <td>107.410000</td>\n",
       "      <td>3.087500</td>\n",
       "      <td>3.400000</td>\n",
       "      <td>3.452500</td>\n",
       "      <td>8.598925</td>\n",
       "      <td>0.547500</td>\n",
       "      <td>0.724350</td>\n",
       "    </tr>\n",
       "    <tr>\n",
       "      <th>std</th>\n",
       "      <td>115.614301</td>\n",
       "      <td>11.473646</td>\n",
       "      <td>6.069514</td>\n",
       "      <td>1.143728</td>\n",
       "      <td>1.006869</td>\n",
       "      <td>0.898478</td>\n",
       "      <td>0.596317</td>\n",
       "      <td>0.498362</td>\n",
       "      <td>0.142609</td>\n",
       "    </tr>\n",
       "    <tr>\n",
       "      <th>min</th>\n",
       "      <td>1.000000</td>\n",
       "      <td>290.000000</td>\n",
       "      <td>92.000000</td>\n",
       "      <td>1.000000</td>\n",
       "      <td>1.000000</td>\n",
       "      <td>1.000000</td>\n",
       "      <td>6.800000</td>\n",
       "      <td>0.000000</td>\n",
       "      <td>0.340000</td>\n",
       "    </tr>\n",
       "    <tr>\n",
       "      <th>25%</th>\n",
       "      <td>100.750000</td>\n",
       "      <td>308.000000</td>\n",
       "      <td>103.000000</td>\n",
       "      <td>2.000000</td>\n",
       "      <td>2.500000</td>\n",
       "      <td>3.000000</td>\n",
       "      <td>8.170000</td>\n",
       "      <td>0.000000</td>\n",
       "      <td>0.640000</td>\n",
       "    </tr>\n",
       "    <tr>\n",
       "      <th>50%</th>\n",
       "      <td>200.500000</td>\n",
       "      <td>317.000000</td>\n",
       "      <td>107.000000</td>\n",
       "      <td>3.000000</td>\n",
       "      <td>3.500000</td>\n",
       "      <td>3.500000</td>\n",
       "      <td>8.610000</td>\n",
       "      <td>1.000000</td>\n",
       "      <td>0.730000</td>\n",
       "    </tr>\n",
       "    <tr>\n",
       "      <th>75%</th>\n",
       "      <td>300.250000</td>\n",
       "      <td>325.000000</td>\n",
       "      <td>112.000000</td>\n",
       "      <td>4.000000</td>\n",
       "      <td>4.000000</td>\n",
       "      <td>4.000000</td>\n",
       "      <td>9.062500</td>\n",
       "      <td>1.000000</td>\n",
       "      <td>0.830000</td>\n",
       "    </tr>\n",
       "    <tr>\n",
       "      <th>max</th>\n",
       "      <td>400.000000</td>\n",
       "      <td>340.000000</td>\n",
       "      <td>120.000000</td>\n",
       "      <td>5.000000</td>\n",
       "      <td>5.000000</td>\n",
       "      <td>5.000000</td>\n",
       "      <td>9.920000</td>\n",
       "      <td>1.000000</td>\n",
       "      <td>0.970000</td>\n",
       "    </tr>\n",
       "  </tbody>\n",
       "</table>\n",
       "</div>"
      ],
      "text/plain": [
       "       Serial No.   GRE Score  TOEFL Score  University Rating         SOP  \\\n",
       "count  400.000000  400.000000   400.000000         400.000000  400.000000   \n",
       "mean   200.500000  316.807500   107.410000           3.087500    3.400000   \n",
       "std    115.614301   11.473646     6.069514           1.143728    1.006869   \n",
       "min      1.000000  290.000000    92.000000           1.000000    1.000000   \n",
       "25%    100.750000  308.000000   103.000000           2.000000    2.500000   \n",
       "50%    200.500000  317.000000   107.000000           3.000000    3.500000   \n",
       "75%    300.250000  325.000000   112.000000           4.000000    4.000000   \n",
       "max    400.000000  340.000000   120.000000           5.000000    5.000000   \n",
       "\n",
       "             LOR         CGPA    Research  Chance of Admit   \n",
       "count  400.000000  400.000000  400.000000        400.000000  \n",
       "mean     3.452500    8.598925    0.547500          0.724350  \n",
       "std      0.898478    0.596317    0.498362          0.142609  \n",
       "min      1.000000    6.800000    0.000000          0.340000  \n",
       "25%      3.000000    8.170000    0.000000          0.640000  \n",
       "50%      3.500000    8.610000    1.000000          0.730000  \n",
       "75%      4.000000    9.062500    1.000000          0.830000  \n",
       "max      5.000000    9.920000    1.000000          0.970000  "
      ]
     },
     "execution_count": 15,
     "metadata": {
     },
     "output_type": "execute_result"
    }
   ],
   "source": [
    "admission.describe()\n"
   ]
  },
  {
   "cell_type": "markdown",
   "metadata": {
    "collapsed": false
   },
   "source": [
    "In the above dataframe, we can see that 83% is at the third quartile for chance of admit. Therefore we will be using 0.83 later to transform chance of admit into a binary variable. "
   ]
  },
  {
   "cell_type": "markdown",
   "metadata": {
    "collapsed": false
   },
   "source": [
    "We need to turn the variable 'Chance of Admit' to a binary type. So we will use 1 if someone is more likely to be accepted and 0 if not. Since we found that 83% is at the third quartile, we will use 0.83 as the decision boundary separating the two types of admission decision."
   ]
  },
  {
   "cell_type": "code",
   "execution_count": 16,
   "metadata": {
    "collapsed": false
   },
   "outputs": [
    {
     "data": {
      "text/html": [
       "<div>\n",
       "<style scoped>\n",
       "    .dataframe tbody tr th:only-of-type {\n",
       "        vertical-align: middle;\n",
       "    }\n",
       "\n",
       "    .dataframe tbody tr th {\n",
       "        vertical-align: top;\n",
       "    }\n",
       "\n",
       "    .dataframe thead th {\n",
       "        text-align: right;\n",
       "    }\n",
       "</style>\n",
       "<table border=\"1\" class=\"dataframe\">\n",
       "  <thead>\n",
       "    <tr style=\"text-align: right;\">\n",
       "      <th></th>\n",
       "      <th>Serial No.</th>\n",
       "      <th>GRE Score</th>\n",
       "      <th>TOEFL Score</th>\n",
       "      <th>University Rating</th>\n",
       "      <th>SOP</th>\n",
       "      <th>LOR</th>\n",
       "      <th>CGPA</th>\n",
       "      <th>Research</th>\n",
       "      <th>Offer</th>\n",
       "    </tr>\n",
       "  </thead>\n",
       "  <tbody>\n",
       "    <tr>\n",
       "      <th>0</th>\n",
       "      <td>1</td>\n",
       "      <td>337</td>\n",
       "      <td>118</td>\n",
       "      <td>4</td>\n",
       "      <td>4.5</td>\n",
       "      <td>4.5</td>\n",
       "      <td>9.65</td>\n",
       "      <td>1</td>\n",
       "      <td>1</td>\n",
       "    </tr>\n",
       "    <tr>\n",
       "      <th>1</th>\n",
       "      <td>2</td>\n",
       "      <td>324</td>\n",
       "      <td>107</td>\n",
       "      <td>4</td>\n",
       "      <td>4.0</td>\n",
       "      <td>4.5</td>\n",
       "      <td>8.87</td>\n",
       "      <td>1</td>\n",
       "      <td>0</td>\n",
       "    </tr>\n",
       "    <tr>\n",
       "      <th>2</th>\n",
       "      <td>3</td>\n",
       "      <td>316</td>\n",
       "      <td>104</td>\n",
       "      <td>3</td>\n",
       "      <td>3.0</td>\n",
       "      <td>3.5</td>\n",
       "      <td>8.00</td>\n",
       "      <td>1</td>\n",
       "      <td>0</td>\n",
       "    </tr>\n",
       "    <tr>\n",
       "      <th>3</th>\n",
       "      <td>4</td>\n",
       "      <td>322</td>\n",
       "      <td>110</td>\n",
       "      <td>3</td>\n",
       "      <td>3.5</td>\n",
       "      <td>2.5</td>\n",
       "      <td>8.67</td>\n",
       "      <td>1</td>\n",
       "      <td>0</td>\n",
       "    </tr>\n",
       "    <tr>\n",
       "      <th>4</th>\n",
       "      <td>5</td>\n",
       "      <td>314</td>\n",
       "      <td>103</td>\n",
       "      <td>2</td>\n",
       "      <td>2.0</td>\n",
       "      <td>3.0</td>\n",
       "      <td>8.21</td>\n",
       "      <td>0</td>\n",
       "      <td>0</td>\n",
       "    </tr>\n",
       "  </tbody>\n",
       "</table>\n",
       "</div>"
      ],
      "text/plain": [
       "   Serial No.  GRE Score  TOEFL Score  University Rating  SOP  LOR   CGPA  \\\n",
       "0           1        337          118                  4  4.5   4.5  9.65   \n",
       "1           2        324          107                  4  4.0   4.5  8.87   \n",
       "2           3        316          104                  3  3.0   3.5  8.00   \n",
       "3           4        322          110                  3  3.5   2.5  8.67   \n",
       "4           5        314          103                  2  2.0   3.0  8.21   \n",
       "\n",
       "   Research Offer  \n",
       "0         1     1  \n",
       "1         1     0  \n",
       "2         1     0  \n",
       "3         1     0  \n",
       "4         0     0  "
      ]
     },
     "execution_count": 16,
     "metadata": {
     },
     "output_type": "execute_result"
    }
   ],
   "source": [
    "admission = admission.rename(columns = {'Chance of Admit ': 'Offer'})\n",
    "admission.loc[admission['Offer'] >= 0.83, 'Offer'] = 1 \n",
    "admission.loc[admission['Offer'] < 0.83, 'Offer'] = 0 \n",
    "\n",
    "admission.head()\n"
   ]
  },
  {
   "cell_type": "markdown",
   "metadata": {
    "collapsed": false
   },
   "source": [
    "##### Fitting Logistic Regression Model "
   ]
  },
  {
   "cell_type": "code",
   "execution_count": 17,
   "metadata": {
    "collapsed": false
   },
   "outputs": [
   ],
   "source": [
    "# x will be the variables that we use to predict admission\n",
    "# y will be the result \n",
    "x = admission.drop('Offer', axis = 1)\n",
    "y = admission.Offer\n",
    "\n",
    "# We are splitting our test and train data\n",
    "x_train, x_test, y_train, y_test = train_test_split(x, y, test_size=0.25)\n",
    "y_train = y_train.astype('int')\n",
    "x_train = x_train.astype('int')\n"
   ]
  },
  {
   "cell_type": "code",
   "execution_count": 18,
   "metadata": {
    "collapsed": false
   },
   "outputs": [
   ],
   "source": [
    "# Train the model\n",
    "l = LogisticRegression(solver = 'liblinear')\n",
    "l.fit(x_train, y_train)\n",
    "y_pred = l.predict(x_test)\n",
    "y_test = list(y_test)\n"
   ]
  },
  {
   "cell_type": "code",
   "execution_count": 19,
   "metadata": {
    "collapsed": false
   },
   "outputs": [
    {
     "name": "stdout",
     "output_type": "stream",
     "text": [
      "90.0\n"
     ]
    },
    {
     "name": "stderr",
     "output_type": "stream",
     "text": [
      "/ext/sage/sage-9.2/local/lib/python3.8/site-packages/sklearn/utils/validation.py:67: FutureWarning: Pass labels=[1, 0] as keyword args. From version 0.25 passing these as positional arguments will result in an error\n",
      "  warnings.warn(\"Pass {} as keyword args. From version 0.25 \"\n"
     ]
    },
    {
     "data": {
      "text/plain": [
       "<AxesSubplot:>"
      ]
     },
     "execution_count": 19,
     "metadata": {
     },
     "output_type": "execute_result"
    },
    {
     "data": {
      "image/png": "[encoded data removed]",
      "text/plain": [
       "<Figure size 432x288 with 2 Axes>"
      ]
     },
     "execution_count": 19,
     "metadata": {
      "needs_background": "light"
     },
     "output_type": "execute_result"
    }
   ],
   "source": [
    "# Find accuracy of our model\n",
    "accuracy = accuracy_score(y_test, y_pred)\n",
    "accuracy_percentage = 100 * accuracy\n",
    "print(accuracy_percentage)\n",
    "\n",
    "# Plotting the confusion matrix\n",
    "cfm = confusion_matrix(y_pred, y_test, [1,0])\n",
    "sns.heatmap(cfm, annot=True, fmt='.2f',xticklabels = [\"Admitted\", \"Rejected\"] , yticklabels = [\"Admitted\", \"Rejected\"] )"
   ]
  },
  {
   "cell_type": "code",
   "execution_count": 20,
   "metadata": {
    "collapsed": false
   },
   "outputs": [
    {
     "name": "stdout",
     "output_type": "stream",
     "text": [
      "              precision    recall  f1-score   support\n",
      "\n",
      "           0       0.97      0.89      0.93        75\n",
      "           1       0.74      0.92      0.82        25\n",
      "\n",
      "    accuracy                           0.90       100\n",
      "   macro avg       0.86      0.91      0.88       100\n",
      "weighted avg       0.91      0.90      0.90       100\n",
      "\n"
     ]
    }
   ],
   "source": [
    "print(classification_report(y_test, l.predict(x_test)))"
   ]
  },
  {
   "cell_type": "markdown",
   "metadata": {
    "collapsed": false
   },
   "source": [
    "#### Exercise 1"
   ]
  },
  {
   "cell_type": "markdown",
   "metadata": {
    "collapsed": false
   },
   "source": [
    "a) Fit a logistic regression model using the same dataset but this time only use the three most correlated variables as shown in the correlation map (Gre Score, CGPA, and TOFEL). "
   ]
  },
  {
   "cell_type": "code",
   "execution_count": 21,
   "metadata": {
    "collapsed": false
   },
   "outputs": [
   ],
   "source": [
    "# Your Code Here"
   ]
  },
  {
   "cell_type": "markdown",
   "metadata": {
    "collapsed": false
   },
   "source": [
    "b) report the accuracy and confusion matrix. Is the accuracy lower or higher using less variables?"
   ]
  },
  {
   "cell_type": "code",
   "execution_count": 22,
   "metadata": {
    "collapsed": false
   },
   "outputs": [
   ],
   "source": [
    "# Your Code Here"
   ]
  },
  {
   "cell_type": "markdown",
   "metadata": {
    "collapsed": false
   },
   "source": [
    "c) report precision, recall, and f1-score. Is the precision and recall significantly different? Why?"
   ]
  },
  {
   "cell_type": "code",
   "execution_count": 23,
   "metadata": {
    "collapsed": false
   },
   "outputs": [
   ],
   "source": [
    "# Your Code Here\n"
   ]
  },
  {
   "cell_type": "markdown",
   "metadata": {
    "collapsed": false
   },
   "source": [
    "#### Exercise 2"
   ]
  },
  {
   "cell_type": "markdown",
   "metadata": {
    "collapsed": false
   },
   "source": [
    "a) Git a logistic regression model using all variables but this time maniplute test_size in train_test_split().  \n",
    "- set test_size = $0.25$\n",
    "- set test_size = $0.40$\n",
    "- set test_size = $0.50$\n"
   ]
  },
  {
   "cell_type": "code",
   "execution_count": 24,
   "metadata": {
    "collapsed": false
   },
   "outputs": [
   ],
   "source": [
    "# Your Code Here"
   ]
  },
  {
   "cell_type": "markdown",
   "metadata": {
    "collapsed": false
   },
   "source": [
    "b) Report accuracy for using three different test_size. Does the accuracy for the model increase or decrease as test_size increases?"
   ]
  },
  {
   "cell_type": "code",
   "execution_count": 25,
   "metadata": {
    "collapsed": false
   },
   "outputs": [
   ],
   "source": [
    "# Your Code Here"
   ]
  },
  {
   "cell_type": "markdown",
   "metadata": {
    "collapsed": false
   },
   "source": [
    "c) Graph confusion matrix and report recall, precision, f1-score of the model with the highest accuracy."
   ]
  },
  {
   "cell_type": "code",
   "execution_count": 26,
   "metadata": {
    "collapsed": false
   },
   "outputs": [
   ],
   "source": [
    "# Your code here"
   ]
  },
  {
   "cell_type": "markdown",
   "metadata": {
    "collapsed": false
   },
   "source": [
    "#### Summary"
   ]
  },
  {
   "cell_type": "markdown",
   "metadata": {
    "collapsed": false
   },
   "source": [
    "- Logistic regression fits a model described by a vector $w$ to data\n",
    "- The best $w$ is the one that minimizes a particular loss function\n",
    "- $w$ is computed through gradient descent\n",
    "- Logistic regression classifier is still a linear classifier but with a probability output\n",
    "- It can be trained using a gradeint descent algorithm\n",
    "- The 'regression' refers to fitting the discriminative probabilities: $p(y|x)$\n",
    "- It has been widely adopted in practice, especially in the modern deep learning era"
   ]
  },
  {
   "cell_type": "code",
   "execution_count": 27,
   "metadata": {
    "collapsed": false
   },
   "outputs": [
    {
     "data": {
      "text/plain": [
       "Index(['Serial No.', 'GRE Score', 'TOEFL Score', 'University Rating', 'SOP',\n",
       "       'LOR ', 'CGPA', 'Research', 'Offer'],\n",
       "      dtype='object')"
      ]
     },
     "execution_count": 27,
     "metadata": {
     },
     "output_type": "execute_result"
    }
   ],
   "source": [
    "admission.columns"
   ]
  },
  {
   "cell_type": "markdown",
   "metadata": {
    "collapsed": false
   },
   "source": [
    "#### Solutions to Exercise 1"
   ]
  },
  {
   "cell_type": "code",
   "execution_count": 28,
   "metadata": {
    "collapsed": false
   },
   "outputs": [
   ],
   "source": [
    "# a)\n",
    "x = admission.drop(['Offer','TOEFL Score','University Rating', 'SOP','LOR ','Research'], axis = 1)\n",
    "y = admission.Offer\n",
    "\n",
    "x_train, x_test, y_train, y_test = train_test_split(x, y, test_size=0.25)\n",
    "y_train = y_train.astype('int')\n",
    "x_train = x_train.astype('int')\n",
    "\n",
    "l = LogisticRegression(solver = 'liblinear')\n",
    "l.fit(x_train, y_train)\n",
    "y_pred = l.predict(x_test)\n",
    "y_test = list(y_test)"
   ]
  },
  {
   "cell_type": "code",
   "execution_count": 29,
   "metadata": {
    "collapsed": false
   },
   "outputs": [
    {
     "name": "stdout",
     "output_type": "stream",
     "text": [
      "72.0\n"
     ]
    },
    {
     "name": "stderr",
     "output_type": "stream",
     "text": [
      "/ext/sage/sage-9.2/local/lib/python3.8/site-packages/sklearn/utils/validation.py:67: FutureWarning: Pass labels=[1, 0] as keyword args. From version 0.25 passing these as positional arguments will result in an error\n",
      "  warnings.warn(\"Pass {} as keyword args. From version 0.25 \"\n"
     ]
    },
    {
     "data": {
      "text/plain": [
       "<AxesSubplot:>"
      ]
     },
     "execution_count": 29,
     "metadata": {
     },
     "output_type": "execute_result"
    },
    {
     "data": {
      "image/png": "[encoded data removed]",
      "text/plain": [
       "<Figure size 432x288 with 2 Axes>"
      ]
     },
     "execution_count": 29,
     "metadata": {
      "needs_background": "light"
     },
     "output_type": "execute_result"
    }
   ],
   "source": [
    "# b)\n",
    "accuracy = accuracy_score(y_test, y_pred)\n",
    "accuracy_percentage = 100 * accuracy\n",
    "print(accuracy_percentage)\n",
    "\n",
    "cfm = confusion_matrix(y_pred, y_test, [1,0])\n",
    "sns.heatmap(cfm, annot=True, fmt='.2f',xticklabels = [\"Admitted\", \"Rejected\"] , yticklabels = [\"Admitted\", \"Rejected\"] )"
   ]
  },
  {
   "cell_type": "code",
   "execution_count": 30,
   "metadata": {
    "collapsed": false
   },
   "outputs": [
    {
     "name": "stdout",
     "output_type": "stream",
     "text": [
      "              precision    recall  f1-score   support\n",
      "\n",
      "           0       0.98      0.64      0.77        74\n",
      "           1       0.48      0.96      0.64        26\n",
      "\n",
      "    accuracy                           0.72       100\n",
      "   macro avg       0.73      0.80      0.71       100\n",
      "weighted avg       0.85      0.72      0.74       100\n",
      "\n"
     ]
    }
   ],
   "source": [
    "# c)\n",
    "print(classification_report(y_test, l.predict(x_test)))"
   ]
  },
  {
   "cell_type": "markdown",
   "metadata": {
    "collapsed": false
   },
   "source": [
    "#### Solutions to Exercise 2"
   ]
  },
  {
   "cell_type": "code",
   "execution_count": 31,
   "metadata": {
    "collapsed": false
   },
   "outputs": [
   ],
   "source": [
    "# a)\n",
    "x = admission.drop('Offer', axis = 1)\n",
    "y = admission.Offer\n",
    "\n",
    "# test_size = 0.25\n",
    "x_train, x_test, y_train, y_test = train_test_split(x, y, test_size=0.25)\n",
    "y_train = y_train.astype('int')\n",
    "x_train = x_train.astype('int')\n",
    "\n",
    "# test_size = 0.40\n",
    "x_train2, x_test2, y_train2, y_test2 = train_test_split(x, y, test_size=0.40)\n",
    "y_train2 = y_train2.astype('int')\n",
    "x_train2 = x_train2.astype('int')\n",
    "\n",
    "# test_size = 0.50\n",
    "x_train3, x_test3, y_train3, y_test3 = train_test_split(x, y, test_size=0.50)\n",
    "y_train3 = y_train3.astype('int')\n",
    "x_train3 = x_train3.astype('int')\n",
    "\n",
    "# test_size = 0.25\n",
    "l = LogisticRegression(solver = 'liblinear')\n",
    "l.fit(x_train, y_train)\n",
    "y_pred = l.predict(x_test)\n",
    "y_test = list(y_test)\n",
    "\n",
    "#test_size = 0.40\n",
    "l2 = LogisticRegression(solver = 'liblinear')\n",
    "l2.fit(x_train, y_train)\n",
    "y_pred2 = l2.predict(x_test2)\n",
    "y_test2 = list(y_test2)\n",
    "\n",
    "#test_size = 0.50\n",
    "l3 = LogisticRegression(solver = 'liblinear')\n",
    "l3.fit(x_train3, y_train3)\n",
    "y_pred3 = l3.predict(x_test3)\n",
    "y_test3 = list(y_test3)"
   ]
  },
  {
   "cell_type": "code",
   "execution_count": 32,
   "metadata": {
    "collapsed": false
   },
   "outputs": [
    {
     "name": "stdout",
     "output_type": "stream",
     "text": [
      "93.0\n",
      "90.625\n",
      "90.5\n",
      "If you run this several times, you should notice that accuracy is actually not affected by test size\n"
     ]
    }
   ],
   "source": [
    "# b)\n",
    "# test_size = 0.25\n",
    "accuracy = accuracy_score(y_test, y_pred)\n",
    "accuracy_percentage = 100 * accuracy\n",
    "print(accuracy_percentage)\n",
    "\n",
    "#test_size = 0.40\n",
    "accuracy2 = accuracy_score(y_test2, y_pred2)\n",
    "accuracy_percentage2 = 100 * accuracy2\n",
    "print(accuracy_percentage2)\n",
    "\n",
    "#test_size = 0.50\n",
    "accuracy3 = accuracy_score(y_test3, y_pred3)\n",
    "accuracy_percentage3 = 100 * accuracy3\n",
    "print(accuracy_percentage3)\n",
    "\n",
    "print('If you run this several times, you should notice that accuracy is actually not affected by test size')"
   ]
  },
  {
   "cell_type": "code",
   "execution_count": 33,
   "metadata": {
    "collapsed": false
   },
   "outputs": [
    {
     "name": "stderr",
     "output_type": "stream",
     "text": [
      "/ext/sage/sage-9.2/local/lib/python3.8/site-packages/sklearn/utils/validation.py:67: FutureWarning: Pass labels=[1, 0] as keyword args. From version 0.25 passing these as positional arguments will result in an error\n",
      "  warnings.warn(\"Pass {} as keyword args. From version 0.25 \"\n"
     ]
    },
    {
     "data": {
      "text/plain": [
       "<AxesSubplot:>"
      ]
     },
     "execution_count": 33,
     "metadata": {
     },
     "output_type": "execute_result"
    },
    {
     "data": {
      "image/png": "[encoded data removed]",
      "text/plain": [
       "<Figure size 432x288 with 2 Axes>"
      ]
     },
     "execution_count": 33,
     "metadata": {
      "needs_background": "light"
     },
     "output_type": "execute_result"
    }
   ],
   "source": [
    "# c)\n",
    "# the model with test_size = 0.5 has the highest accuracy \n",
    "cfm = confusion_matrix(y_pred3, y_test3, [1,0])\n",
    "sns.heatmap(cfm, annot=True, fmt='.2f',xticklabels = [\"Admitted\", \"Rejected\"] , yticklabels = [\"Admitted\", \"Rejected\"] )"
   ]
  },
  {
   "cell_type": "code",
   "execution_count": 34,
   "metadata": {
    "collapsed": false
   },
   "outputs": [
    {
     "name": "stdout",
     "output_type": "stream",
     "text": [
      "              precision    recall  f1-score   support\n",
      "\n",
      "           0       0.96      0.90      0.93       147\n",
      "           1       0.77      0.91      0.83        53\n",
      "\n",
      "    accuracy                           0.91       200\n",
      "   macro avg       0.87      0.91      0.88       200\n",
      "weighted avg       0.91      0.91      0.91       200\n",
      "\n"
     ]
    }
   ],
   "source": [
    "print(classification_report(y_test3, l.predict(x_test3)))"
   ]
  }
 ],
 "metadata": {
  "kernelspec": {
   "display_name": "SageMath 9.2",
   "language": "sagemath",
   "metadata": {
    "cocalc": {
     "description": "Open-source mathematical software system",
     "priority": 1,
     "url": "https://www.sagemath.org/"
    }
   },
   "name": "sage-9.2",
   "resource_dir": "/ext/jupyter/kernels/sage-9.2"
  },
  "language_info": {
   "codemirror_mode": {
    "name": "ipython",
    "version": 3
   },
   "file_extension": ".py",
   "mimetype": "text/x-python",
   "name": "python",
   "nbconvert_exporter": "python",
   "pygments_lexer": "ipython3",
   "version": "3.8.5"
  }
 },
 "nbformat": 4,
 "nbformat_minor": 4
}